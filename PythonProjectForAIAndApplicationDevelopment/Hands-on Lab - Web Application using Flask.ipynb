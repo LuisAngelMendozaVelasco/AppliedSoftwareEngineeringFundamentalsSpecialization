{
 "cells": [
  {
   "cell_type": "markdown",
   "metadata": {},
   "source": [
    "# Hands-on Lab: Web Application using Flask"
   ]
  },
  {
   "cell_type": "markdown",
   "metadata": {},
   "source": [
    "![](https://cf-courses-data.s3.us.cloud-object-storage.appdomain.cloud/assets/logos/SN_web_lightmode.png)"
   ]
  },
  {
   "cell_type": "markdown",
   "metadata": {},
   "source": [
    "## Web Application using Flask"
   ]
  },
  {
   "cell_type": "markdown",
   "metadata": {},
   "source": [
    "Estimated time needed: **30** minutes"
   ]
  },
  {
   "cell_type": "markdown",
   "metadata": {},
   "source": [
    "## Objectives"
   ]
  },
  {
   "cell_type": "markdown",
   "metadata": {},
   "source": [
    "After completing this lab you will be able to:\n",
    "\n",
    "- Install flask\n",
    "\n",
    "- Create API end points in python\n",
    "\n",
    "- Create and run a web application using Flask"
   ]
  },
  {
   "cell_type": "markdown",
   "metadata": {},
   "source": [
    "## SetUp"
   ]
  },
  {
   "cell_type": "markdown",
   "metadata": {},
   "source": [
    "1. Open a terminal window by using the menu in the editor: Terminal > New Terminal.\n",
    "\n",
    "![](https://cf-courses-data.s3.us.cloud-object-storage.appdomain.cloud/IBMDeveloperSkillsNetwork-PY0222EN-SkillsNetwork/labs/module_1/images/new-terminal.png)\n",
    "\n",
    "2. Install the flask package that you will need to complete the exercises.\n",
    "\n",
    "```bash\n",
    "pip3 install flask==1.1.4#\n",
    "```\n",
    "\n",
    "3. In the terminal, change to your project folder.\n",
    "\n",
    "```bash\n",
    "cd /home/project\n",
    "```\n",
    "\n",
    "4. Clone the git repository.\n",
    "\n",
    "```bash\n",
    "git clone https://github.com/ibm-developer-skills-network/rlkee-flaskproject.git\n",
    "```\n",
    "\n",
    "5. Change to the directory named rlkee-flaskproject/practice_labs.\n",
    "\n",
    "```bash\n",
    "cd rlkee-flaskproject/practice_labs\n",
    "```\n",
    "\n",
    "6. List the contents of this directory to see the artifacts for this lab. You must have a few exercise files that you will be running in the steps to follow.\n",
    "\n",
    "```bash\n",
    "ls\n",
    "```\n",
    "\n",
    "7. You can also view the files cloned in the explorer.\n",
    "\n",
    "![](https://cf-courses-data.s3.us.cloud-object-storage.appdomain.cloud/IBMDeveloperSkillsNetwork-PY0222EN-SkillsNetwork/labs/module_1/images/clone_filesexplore.png)"
   ]
  },
  {
   "cell_type": "markdown",
   "metadata": {},
   "source": [
    "## Exercise 1: First WebApplication"
   ]
  },
  {
   "cell_type": "markdown",
   "metadata": {},
   "source": [
    "In this exercise we are just building a very primitive web application with *flask*, which serves one root endpoint */* and returns Hello World! string when the endpoint is accessed. The root endpoint is when you just type the IP address and the port. For example, *http://127.0.0.1:5000* is a root endpoint.\n",
    "\n",
    "1. In the files explorer view FirstWebApplication.py.\n",
    "\n",
    "![](https://cf-courses-data.s3.us.cloud-object-storage.appdomain.cloud/IBMDeveloperSkillsNetwork-PY0222EN-SkillsNetwork/labs/module_1/images/firstWebApplication.png)\n",
    "\n",
    "2. In the terminal run the following command.\n",
    "\n",
    "```bash\n",
    "python3 FirstWebApplication.py\n",
    "```\n",
    "\n",
    "3. This will start the server. You should see the following on your screen, indicating the server is running and is waiting for requests. Note down the port number. The default port number is 5000.\n",
    "\n",
    "![](https://cf-courses-data.s3.us.cloud-object-storage.appdomain.cloud/IBMDeveloperSkillsNetwork-PY0222EN-SkillsNetwork/labs/module_1/images/firstwebapp_server_running.png)\n",
    "\n",
    "4. Click on the *Skills Network button* on the left, it will open the *Skills Network Toolbox*. Then click the *Other* then *Launch Application*.\n",
    "From there you should be able to enter the port.\n",
    "\n",
    "![](https://cf-courses-data.s3.us.cloud-object-storage.appdomain.cloud/IBMDeveloperSkillsNetwork-PY0222EN-SkillsNetwork/labs/module_1/images/Launch%20app.png)\n",
    "\n",
    "5. Enter the port number at which the server is running and click *Launch* button.\n",
    "\n",
    "![](https://cf-courses-data.s3.us.cloud-object-storage.appdomain.cloud/IBMDeveloperSkillsNetwork-PY0222EN-SkillsNetwork/labs/module_1/images/5000.png)\n",
    "\n",
    "6. A new browser tab opens up.\n",
    "\n",
    "![](https://cf-courses-data.s3.us.cloud-object-storage.appdomain.cloud/IBMDeveloperSkillsNetwork-PY0222EN-SkillsNetwork/labs/module_1/images/helloworldbrowser.png)\n",
    "\n",
    "7. Close the browser tab.\n",
    "\n",
    "8. Press Ctrl+C in the terminal to stop the server."
   ]
  },
  {
   "cell_type": "markdown",
   "metadata": {},
   "source": [
    "## Exercise 2: WebApplication with Template Rendering and static resources"
   ]
  },
  {
   "cell_type": "markdown",
   "metadata": {},
   "source": [
    "In this exercise, we will go further than just a primitive web application. We will create a Book Manager web application.\n",
    "This application will render HTML page as template, through the\n",
    "root endpoint */*. We will also have other endpoints which will be used internally by the HTML page through Javascript.\n",
    "\n",
    "In the terminal, check if you are in the practice_labs directory. If not change to that directory with the following command.\n",
    "\n",
    "1. In the terminal, check if you are in the practice_labs directory. If not change to that directory with the following command.\n",
    "\n",
    "```bash\n",
    "In the terminal, check if you are in the practice_labs directory. If not change to that directory with the following command.\n",
    "```\n",
    "\n",
    "2. Analyze the code in bookManager.py in the explorer. See the end points that are being served. Explore the templates and the static folder. Observe, how the code in *index.html* uses the templates and the static files.\n",
    "\n",
    "![](https://cf-courses-data.s3.us.cloud-object-storage.appdomain.cloud/IBMDeveloperSkillsNetwork-PY0222EN-SkillsNetwork/labs/module_1/images/bookmanagerfiles.png)\n",
    "\n",
    "3. In the terminal run the following command, to start the application server.\n",
    "\n",
    "```bash\n",
    "python3 bookManager.py\n",
    "```\n",
    "\n",
    "4. You will see the server running on port 5000, the default port.\n",
    "\n",
    "![](https://cf-courses-data.s3.us.cloud-object-storage.appdomain.cloud/IBMDeveloperSkillsNetwork-PY0222EN-SkillsNetwork/labs/module_1/images/bookmanager_server.png)\n",
    "\n",
    "5. Click on launch application and enter the port number *5000* just as you did in the previous exercise.\n",
    "\n",
    "![](https://cf-courses-data.s3.us.cloud-object-storage.appdomain.cloud/IBMDeveloperSkillsNetwork-PY0222EN-SkillsNetwork/images/Launch%20app.png)\n",
    "\n",
    "![](https://cf-courses-data.s3.us.cloud-object-storage.appdomain.cloud/IBMDeveloperSkillsNetwork-PY0222EN-SkillsNetwork/images/5000.png)\n",
    "\n",
    "6. Enter the port number *5000* and click OK to launch the broswer tab.\n",
    "\n",
    "7. Enter Book and Author and click on Add Book and see the list of books added.\n",
    "\n",
    "Congratulations! You have completed this lab section. You should now be familiar with creating Web Application with Flask."
   ]
  },
  {
   "cell_type": "markdown",
   "metadata": {},
   "source": [
    "## Authors"
   ]
  },
  {
   "cell_type": "markdown",
   "metadata": {},
   "source": [
    "Lavanya"
   ]
  },
  {
   "cell_type": "markdown",
   "metadata": {},
   "source": [
    "## Change Log"
   ]
  },
  {
   "cell_type": "markdown",
   "metadata": {},
   "source": [
    "| **Date (YYYY-MM-DD)** | **Version**   | **Changed By**    | **Change Description**                                                |\n",
    "|-----------------------|---------------|-------------------|---------------------------                                            |\n",
    "| 2021-05-14\t        | 0.1\t        | Lavanya\t        | Created initial version of the lab                                    | \n",
    "| 2022-09-01\t        | 0.2\t        | Ratima\t        | Updated screenshot and step of Lauch Application                      | \n",
    "| 2022-10-21\t        | 0.3\t        | Ratima\t        | Updated steps of Lauch Application and Skill Network Logo screenshot  | \n",
    "\n",
    "Copyright © 2020 IBM Corporation. All rights reserved."
   ]
  }
 ],
 "metadata": {
  "kernelspec": {
   "display_name": "Python 3.9.13 ('base')",
   "language": "python",
   "name": "python3"
  },
  "language_info": {
   "codemirror_mode": {
    "name": "ipython",
    "version": 3
   },
   "file_extension": ".py",
   "mimetype": "text/x-python",
   "name": "python",
   "nbconvert_exporter": "python",
   "pygments_lexer": "ipython3",
   "version": "3.9.13"
  },
  "orig_nbformat": 4,
  "vscode": {
   "interpreter": {
    "hash": "3cfd106f785ae1e288da74ae733f9b47f8a2699db986927140be0bc196406f4c"
   }
  }
 },
 "nbformat": 4,
 "nbformat_minor": 2
}
